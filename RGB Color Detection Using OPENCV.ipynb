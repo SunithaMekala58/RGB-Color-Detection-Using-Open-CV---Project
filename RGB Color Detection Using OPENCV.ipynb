{
 "cells": [
  {
   "cell_type": "markdown",
   "id": "145c8ace-95dd-46e7-bb5a-8a5b4e83a70b",
   "metadata": {},
   "source": [
    "### RGB COLOR DETECTION USING OPENCV - PROJECT BY SUNITHA MEKALA"
   ]
  },
  {
   "cell_type": "code",
   "execution_count": 9,
   "id": "625b1f04-730e-4ed6-a2c8-b5da44ebabc0",
   "metadata": {},
   "outputs": [
    {
     "name": "stdout",
     "output_type": "stream",
     "text": [
      "Requirement already satisfied: opencv-python in c:\\users\\sunitha\\anaconda3\\lib\\site-packages (4.10.0.84)\n",
      "Requirement already satisfied: numpy>=1.21.2 in c:\\users\\sunitha\\anaconda3\\lib\\site-packages (from opencv-python) (1.26.4)\n"
     ]
    }
   ],
   "source": [
    "!pip install opencv-python"
   ]
  },
  {
   "cell_type": "code",
   "execution_count": 1,
   "id": "5cfd4fce-a510-4cf8-b4c3-34a5ac8717b1",
   "metadata": {},
   "outputs": [],
   "source": [
    "# import the cv2 library\n",
    "import cv2\n",
    "import numpy as np\n",
    "\n",
    "# Capturing the video through cam\n",
    "cap = cv2.VideoCapture(0)\n",
    "\n",
    "# Start a while loop\n",
    "while True:\n",
    "    _, frame = cap.read() # Reading the video from the cam in image frames\n",
    "    # Convert the imageFrame in BGR (RGB color space) to HSV (hue-saturation-value)\n",
    "    #color space\n",
    "    hsv_frame = cv2.cvtColor(frame, cv2.COLOR_BGR2HSV) \n",
    "\n",
    "    # Set range for Red color\n",
    "    low_red = np.array([161, 155, 84])\n",
    "    high_red = np.array([179, 255, 255])\n",
    "\n",
    "    # # Set range for Blue color\n",
    "    low_blue = np.array([94, 80, 2])\n",
    "    high_blue = np.array([126, 255, 255])\n",
    "\n",
    "    # # Set range for Green color\n",
    "    low_green = np.array([25, 52, 72])\n",
    "    high_green = np.array([83, 255, 255])\n",
    "\n",
    "    # Defining mask for red color\n",
    "    red_mask = cv2.inRange(hsv_frame, low_red, high_red)\n",
    "    # bitwise_and operator between imageFrame and mask determines \n",
    "    # to detect only that particular color\n",
    "    red = cv2.bitwise_and(frame, frame, mask=red_mask)\n",
    "\n",
    "    # Defining mask for blue color\n",
    "    blue_mask = cv2.inRange(hsv_frame, low_blue, high_blue)\n",
    "    # bitwise_and operator between imageFrame and mask determines \n",
    "    # to detect only that particular color\n",
    "    blue = cv2.bitwise_and(frame, frame, mask=blue_mask)\n",
    "\n",
    "    # Defining mask for green color\n",
    "    green_mask = cv2.inRange(hsv_frame, low_green, high_green)\n",
    "    # bitwise_and operator between imageFrame and mask determines \n",
    "    # to detect only that particular color\n",
    "    green = cv2.bitwise_and(frame, frame, mask=green_mask)\n",
    "\n",
    "    # The function cv2.imshow() is used to display an image in a window.\n",
    "    cv2.imshow(\"Frame\", frame)\n",
    "    cv2.imshow('Red', red)\n",
    "    cv2.imshow('Green', green)\n",
    "    cv2.imshow('Blue', blue)\n",
    "\n",
    "    # waitKey() waits for a key press to close the window\n",
    "    key = cv2.waitKey(1)\n",
    "    if key == 27:\n",
    "        break \n",
    "  \n",
    "# simply destroys all the windows we created.\n",
    "cv2.destroyAllWindows()\n",
    "    \n"
   ]
  },
  {
   "cell_type": "markdown",
   "id": "9188db37-f3d4-4509-a1ae-d796be317854",
   "metadata": {},
   "source": []
  }
 ],
 "metadata": {
  "kernelspec": {
   "display_name": "Python 3 (ipykernel)",
   "language": "python",
   "name": "python3"
  },
  "language_info": {
   "codemirror_mode": {
    "name": "ipython",
    "version": 3
   },
   "file_extension": ".py",
   "mimetype": "text/x-python",
   "name": "python",
   "nbconvert_exporter": "python",
   "pygments_lexer": "ipython3",
   "version": "3.12.4"
  }
 },
 "nbformat": 4,
 "nbformat_minor": 5
}
